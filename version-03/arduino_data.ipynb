{
 "cells": [
  {
   "cell_type": "code",
   "execution_count": 42,
   "id": "68b5b742-8534-4a50-bd28-e7752e25fa77",
   "metadata": {},
   "outputs": [
    {
     "ename": "NameError",
     "evalue": "name 'datetime' is not defined",
     "output_type": "error",
     "traceback": [
      "\u001b[0;31m---------------------------------------------------------------------------\u001b[0m",
      "\u001b[0;31mNameError\u001b[0m                                 Traceback (most recent call last)",
      "Cell \u001b[0;32mIn[42], line 8\u001b[0m\n\u001b[1;32m      6\u001b[0m \u001b[38;5;28;01mimport\u001b[39;00m \u001b[38;5;21;01mcsv\u001b[39;00m\n\u001b[1;32m      7\u001b[0m \u001b[38;5;28;01mimport\u001b[39;00m \u001b[38;5;21;01mtime\u001b[39;00m\n\u001b[0;32m----> 8\u001b[0m \u001b[43mdatetime\u001b[49m\n\u001b[1;32m      9\u001b[0m \u001b[38;5;66;03m#https://www.learnrobotics.org/blog/arduino-data-logger-csv/\u001b[39;00m\n",
      "\u001b[0;31mNameError\u001b[0m: name 'datetime' is not defined"
     ]
    }
   ],
   "source": [
    "# Import useful libraries\n",
    "\n",
    "import pandas as pd # DataFrame\n",
    "import datetime as dt\n",
    "import serial # Connect to arduino/read values\n",
    "import csv\n",
    "import time\n",
    "datetime\n",
    "#https://www.learnrobotics.org/blog/arduino-data-logger-csv/"
   ]
  },
  {
   "cell_type": "code",
   "execution_count": 8,
   "id": "a99d2ef5-1563-49e2-a5b8-aa57b2465f42",
   "metadata": {},
   "outputs": [],
   "source": [
    "# Board Setup\n",
    "arduino_port = \"/dev/ttyACM0\" \n",
    "baud = 9600\n",
    "fileName=\"analog-data.csv\" # file to save recorded data\n",
    "sensor_data =[]"
   ]
  },
  {
   "cell_type": "code",
   "execution_count": 24,
   "id": "58a15177-e397-411f-bd74-047d5228227b",
   "metadata": {},
   "outputs": [
    {
     "name": "stdout",
     "output_type": "stream",
     "text": [
      "Connected to Arduino port: /dev/ttyACM0\n",
      "Created file\n"
     ]
    }
   ],
   "source": [
    "ser = serial.Serial(arduino_port, baud) # Read serial port\n",
    "print(\"Connected to Arduino port:\", arduino_port)\n",
    "file = open(fileName, \"a\") # append fileName (will create new if no file exists)\n",
    "print(\"Created file\")"
   ]
  },
  {
   "cell_type": "code",
   "execution_count": 34,
   "id": "e2bf2980-80fb-437a-a346-4ce8314eca9d",
   "metadata": {},
   "outputs": [],
   "source": [
    "samples = 100 #how many samples to collect\n",
    "line = 0\n",
    "print_labels = False\n",
    "sensor_data = [] #store data\n",
    "\n",
    "# collect the samples\n",
    "while line <= samples:\n",
    "    getData=ser.readline()\n",
    "    dataString = getData.decode('utf-8')\n",
    "    data = dataString\n",
    "    #print('data ', data)\n",
    "\n",
    "    readings = data.split(\" \")\n",
    "    #print('reading ',readings)\n",
    "\n",
    "    sensor_data.append(readings)\n",
    "    #print('sensor_ data ',sensor_data)\n",
    "    \n",
    "    time.sleep(0)\n",
    "    line = line+1\n",
    "    "
   ]
  },
  {
   "cell_type": "code",
   "execution_count": 35,
   "id": "cd53c56d-cc86-489c-9d14-0eb8f88b84d3",
   "metadata": {},
   "outputs": [
    {
     "name": "stdout",
     "output_type": "stream",
     "text": [
      "Data collection complete!\n"
     ]
    }
   ],
   "source": [
    "# create the CSV\n",
    "with open(fileName, 'w', encoding='UTF8', newline='') as f:\n",
    "    writer = csv.writer(f)\n",
    "    writer.writerows(sensor_data)\n",
    "\n",
    "print(\"Data collection complete!\")\n",
    "file.close()"
   ]
  },
  {
   "cell_type": "code",
   "execution_count": 40,
   "id": "7179db94-44c4-4573-9d9b-ef22ca5d8fc6",
   "metadata": {},
   "outputs": [],
   "source": [
    "# Create data frame\n",
    "dataset = pd.read_csv('analog-data.csv', names= ['analog','voltage','temperature'])\n"
   ]
  },
  {
   "cell_type": "code",
   "execution_count": 109,
   "id": "de0de1e4-f642-4d09-80bf-52bf59019483",
   "metadata": {},
   "outputs": [
    {
     "data": {
      "text/plain": [
       "<matplotlib.collections.PathCollection at 0x7f97d80a2dd0>"
      ]
     },
     "execution_count": 109,
     "metadata": {},
     "output_type": "execute_result"
    },
    {
     "data": {
      "image/png": "[encoded data removed]",
      "text/plain": [
       "<Figure size 640x480 with 1 Axes>"
      ]
     },
     "metadata": {},
     "output_type": "display_data"
    }
   ],
   "source": [
    "plt.scatter(dataset.index,dataset['temperature'])"
   ]
  },
  {
   "cell_type": "code",
   "execution_count": null,
   "id": "57eb188e-56ae-4292-a308-32154ffcf26d",
   "metadata": {},
   "outputs": [],
   "source": []
  }
 ],
 "metadata": {
  "kernelspec": {
   "display_name": "Python 3 (ipykernel)",
   "language": "python",
   "name": "python3"
  },
  "language_info": {
   "codemirror_mode": {
    "name": "ipython",
    "version": 3
   },
   "file_extension": ".py",
   "mimetype": "text/x-python",
   "name": "python",
   "nbconvert_exporter": "python",
   "pygments_lexer": "ipython3",
   "version": "3.10.12"
  }
 },
 "nbformat": 4,
 "nbformat_minor": 5
}
