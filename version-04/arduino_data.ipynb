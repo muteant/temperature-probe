{
 "cells": [
  {
   "cell_type": "code",
   "execution_count": 172,
   "id": "68b5b742-8534-4a50-bd28-e7752e25fa77",
   "metadata": {},
   "outputs": [],
   "source": [
    "# Import useful libraries\n",
    "\n",
    "import pandas as pd # DataFrame\n",
    "from datetime import datetime \n",
    "import matplotlib.pyplot as plt\n",
    "import serial # Connect to arduino/read values\n",
    "import csv\n",
    "import time\n",
    "#https://www.learnrobotics.org/blog/arduino-data-logger-csv/"
   ]
  },
  {
   "cell_type": "code",
   "execution_count": 173,
   "id": "a99d2ef5-1563-49e2-a5b8-aa57b2465f42",
   "metadata": {},
   "outputs": [],
   "source": [
    "# Board Setup\n",
    "arduino_port = \"/dev/ttyACM0\" \n",
    "baud = 9600\n",
    "fileName=\"analog-data.csv\" # file to save recorded data\n",
    "sensor_data =[]"
   ]
  },
  {
   "cell_type": "code",
   "execution_count": 174,
   "id": "58a15177-e397-411f-bd74-047d5228227b",
   "metadata": {},
   "outputs": [
    {
     "name": "stdout",
     "output_type": "stream",
     "text": [
      "Connected to Arduino port: /dev/ttyACM0\n",
      "Created file\n"
     ]
    }
   ],
   "source": [
    "# Read Serial Port and open file\n",
    "ser = serial.Serial(arduino_port, baud) # Read serial port\n",
    "print(\"Connected to Arduino port:\", arduino_port)\n",
    "file = open(fileName, \"a\") # append fileName (will create new if no file exists)\n",
    "print(\"Created file\")"
   ]
  },
  {
   "cell_type": "code",
   "execution_count": 182,
   "id": "e2bf2980-80fb-437a-a346-4ce8314eca9d",
   "metadata": {},
   "outputs": [],
   "source": [
    "sample_rate = 12 # per hour\n",
    "samples = 1000\n",
    "frequency = sampleRate\n",
    "line = 0\n",
    "sensor_data = [] #store data\n",
    "\n",
    "# collect the samples\n",
    "while line <= samples:\n",
    "    getData=ser.readline()\n",
    "    \n",
    "    dataString = getData.decode('UTF-8')\n",
    "    \n",
    "    data = dataString[0:][:-2] # sig figs\n",
    "    \n",
    "    reading = (datetime.now()),data.split(\" \")\n",
    "    \n",
    "    sensor_data.append(reading)\n",
    "    \n",
    "    time.sleep(20)\n",
    "    line = line+1\n",
    "    "
   ]
  },
  {
   "cell_type": "code",
   "execution_count": 162,
   "id": "cd53c56d-cc86-489c-9d14-0eb8f88b84d3",
   "metadata": {},
   "outputs": [
    {
     "name": "stdout",
     "output_type": "stream",
     "text": [
      "Data collection complete!\n"
     ]
    }
   ],
   "source": [
    "# create the CSV\n",
    "with open(fileName, 'w', encoding='UTF8', newline='') as f:\n",
    "    writer = csv.writer(f)\n",
    "    writer.writerows(sensor_data)\n",
    "\n",
    "print(\"Data collection complete!\")\n",
    "file.close()"
   ]
  },
  {
   "cell_type": "code",
   "execution_count": 163,
   "id": "7179db94-44c4-4573-9d9b-ef22ca5d8fc6",
   "metadata": {},
   "outputs": [],
   "source": [
    "# Import recorded data as a panadas DataFram\n",
    "dataset = pd.read_csv(('analog-data.csv'), names = ['time', 'recorded_data'])\n",
    "\n",
    "# Seperate recorded data into new columns\n",
    "dataset[['Analog','Voltage [V]','Temperature [C]']] = dataset['recorded_data'].str.split(' ', expand=True)\n",
    "\n",
    "# Clean up recorded in their new columns\n",
    "dataset['Analog'] = dataset['Analog'].str.strip(\"[',\").astype('float')\n",
    "dataset['Voltage [V]'] = dataset['Voltage [V]'].str.strip(\"[',\").astype('float')\n",
    "dataset['Temperature [C]'] = dataset['Temperature [C]'].str.strip(\"[',]\").astype('float')\n",
    "\n",
    "# Convert time into more columns to make columns more verbose\n",
    "dataset['time'] = pd.to_datetime(dataset['time'])\n",
    "\n",
    "# Create a column for Year, Month, Day, Clock\n",
    "dataset['Year'] = dataset['time'].dt.year\n",
    "dataset['Month'] = dataset['time'].dt.month_name()\n",
    "dataset['Weekday'] = dataset['time'].dt.day_name()\n",
    "dataset['Hour'] = dataset['time'].dt.hour\n",
    "dataset['Minute'] = dataset['time'].dt.minute\n",
    "dataset['Second'] = dataset['time'].dt.second"
   ]
  },
  {
   "cell_type": "code",
   "execution_count": 164,
   "id": "2e72fe8c-1e61-4ba8-8856-bd74efe2d927",
   "metadata": {},
   "outputs": [
    {
     "data": {
      "text/html": [
       "<div>\n",
       "<style scoped>\n",
       "    .dataframe tbody tr th:only-of-type {\n",
       "        vertical-align: middle;\n",
       "    }\n",
       "\n",
       "    .dataframe tbody tr th {\n",
       "        vertical-align: top;\n",
       "    }\n",
       "\n",
       "    .dataframe thead th {\n",
       "        text-align: right;\n",
       "    }\n",
       "</style>\n",
       "<table border=\"1\" class=\"dataframe\">\n",
       "  <thead>\n",
       "    <tr style=\"text-align: right;\">\n",
       "      <th></th>\n",
       "      <th>time</th>\n",
       "      <th>recorded_data</th>\n",
       "      <th>Analog</th>\n",
       "      <th>Voltage [V]</th>\n",
       "      <th>Temperature [C]</th>\n",
       "      <th>Year</th>\n",
       "      <th>Month</th>\n",
       "      <th>Weekday</th>\n",
       "      <th>Hour</th>\n",
       "      <th>Minute</th>\n",
       "      <th>Second</th>\n",
       "    </tr>\n",
       "  </thead>\n",
       "  <tbody>\n",
       "    <tr>\n",
       "      <th>0</th>\n",
       "      <td>2024-01-12 00:41:52.165651</td>\n",
       "      <td>['134.00', '0.65', '15.43']</td>\n",
       "      <td>134.0</td>\n",
       "      <td>0.65</td>\n",
       "      <td>15.43</td>\n",
       "      <td>2024</td>\n",
       "      <td>January</td>\n",
       "      <td>Friday</td>\n",
       "      <td>0</td>\n",
       "      <td>41</td>\n",
       "      <td>52</td>\n",
       "    </tr>\n",
       "    <tr>\n",
       "      <th>1</th>\n",
       "      <td>2024-01-12 00:41:52.166599</td>\n",
       "      <td>['134.00', '0.65', '15.43']</td>\n",
       "      <td>134.0</td>\n",
       "      <td>0.65</td>\n",
       "      <td>15.43</td>\n",
       "      <td>2024</td>\n",
       "      <td>January</td>\n",
       "      <td>Friday</td>\n",
       "      <td>0</td>\n",
       "      <td>41</td>\n",
       "      <td>52</td>\n",
       "    </tr>\n",
       "    <tr>\n",
       "      <th>2</th>\n",
       "      <td>2024-01-12 00:41:52.167529</td>\n",
       "      <td>['134.00', '0.65', '15.43']</td>\n",
       "      <td>134.0</td>\n",
       "      <td>0.65</td>\n",
       "      <td>15.43</td>\n",
       "      <td>2024</td>\n",
       "      <td>January</td>\n",
       "      <td>Friday</td>\n",
       "      <td>0</td>\n",
       "      <td>41</td>\n",
       "      <td>52</td>\n",
       "    </tr>\n",
       "    <tr>\n",
       "      <th>3</th>\n",
       "      <td>2024-01-12 00:41:52.168526</td>\n",
       "      <td>['134.00', '0.65', '15.43']</td>\n",
       "      <td>134.0</td>\n",
       "      <td>0.65</td>\n",
       "      <td>15.43</td>\n",
       "      <td>2024</td>\n",
       "      <td>January</td>\n",
       "      <td>Friday</td>\n",
       "      <td>0</td>\n",
       "      <td>41</td>\n",
       "      <td>52</td>\n",
       "    </tr>\n",
       "    <tr>\n",
       "      <th>4</th>\n",
       "      <td>2024-01-12 00:41:52.169454</td>\n",
       "      <td>['134.00', '0.65', '15.43']</td>\n",
       "      <td>134.0</td>\n",
       "      <td>0.65</td>\n",
       "      <td>15.43</td>\n",
       "      <td>2024</td>\n",
       "      <td>January</td>\n",
       "      <td>Friday</td>\n",
       "      <td>0</td>\n",
       "      <td>41</td>\n",
       "      <td>52</td>\n",
       "    </tr>\n",
       "  </tbody>\n",
       "</table>\n",
       "</div>"
      ],
      "text/plain": [
       "                        time                recorded_data  Analog  \\\n",
       "0 2024-01-12 00:41:52.165651  ['134.00', '0.65', '15.43']   134.0   \n",
       "1 2024-01-12 00:41:52.166599  ['134.00', '0.65', '15.43']   134.0   \n",
       "2 2024-01-12 00:41:52.167529  ['134.00', '0.65', '15.43']   134.0   \n",
       "3 2024-01-12 00:41:52.168526  ['134.00', '0.65', '15.43']   134.0   \n",
       "4 2024-01-12 00:41:52.169454  ['134.00', '0.65', '15.43']   134.0   \n",
       "\n",
       "   Voltage [V]  Temperature [C]  Year    Month Weekday  Hour  Minute  Second  \n",
       "0         0.65            15.43  2024  January  Friday     0      41      52  \n",
       "1         0.65            15.43  2024  January  Friday     0      41      52  \n",
       "2         0.65            15.43  2024  January  Friday     0      41      52  \n",
       "3         0.65            15.43  2024  January  Friday     0      41      52  \n",
       "4         0.65            15.43  2024  January  Friday     0      41      52  "
      ]
     },
     "execution_count": 164,
     "metadata": {},
     "output_type": "execute_result"
    }
   ],
   "source": [
    "dataset.head()"
   ]
  },
  {
   "cell_type": "code",
   "execution_count": 165,
   "id": "eaa65960-01aa-4a6d-a3e9-0acbf8ff0292",
   "metadata": {},
   "outputs": [
    {
     "name": "stdout",
     "output_type": "stream",
     "text": [
      "<class 'pandas.core.frame.DataFrame'>\n",
      "RangeIndex: 101 entries, 0 to 100\n",
      "Data columns (total 11 columns):\n",
      " #   Column           Non-Null Count  Dtype         \n",
      "---  ------           --------------  -----         \n",
      " 0   time             101 non-null    datetime64[ns]\n",
      " 1   recorded_data    101 non-null    object        \n",
      " 2   Analog           101 non-null    float64       \n",
      " 3   Voltage [V]      101 non-null    float64       \n",
      " 4   Temperature [C]  101 non-null    float64       \n",
      " 5   Year             101 non-null    int64         \n",
      " 6   Month            101 non-null    object        \n",
      " 7   Weekday          101 non-null    object        \n",
      " 8   Hour             101 non-null    int64         \n",
      " 9   Minute           101 non-null    int64         \n",
      " 10  Second           101 non-null    int64         \n",
      "dtypes: datetime64[ns](1), float64(3), int64(4), object(3)\n",
      "memory usage: 8.8+ KB\n"
     ]
    }
   ],
   "source": [
    "dataset.info()"
   ]
  },
  {
   "cell_type": "code",
   "execution_count": null,
   "id": "3cbea7f2-9b02-49a2-aefa-fd1121a14fdf",
   "metadata": {},
   "outputs": [],
   "source": []
  },
  {
   "cell_type": "code",
   "execution_count": 166,
   "id": "657521ab-3cce-4fff-9218-6dc07abada49",
   "metadata": {},
   "outputs": [
    {
     "data": {
      "text/plain": [
       "Timedelta('0 days 00:00:00.310228')"
      ]
     },
     "execution_count": 166,
     "metadata": {},
     "output_type": "execute_result"
    }
   ],
   "source": [
    "dataset['time'].loc[10]- dataset['time'].loc[0]"
   ]
  },
  {
   "cell_type": "code",
   "execution_count": 178,
   "id": "f61f4e1a-d2de-43ef-a536-eb817c208e33",
   "metadata": {},
   "outputs": [
    {
     "ename": "NameError",
     "evalue": "name 'fig' is not defined",
     "output_type": "error",
     "traceback": [
      "\u001b[0;31m---------------------------------------------------------------------------\u001b[0m",
      "\u001b[0;31mNameError\u001b[0m                                 Traceback (most recent call last)",
      "Cell \u001b[0;32mIn[178], line 2\u001b[0m\n\u001b[1;32m      1\u001b[0m \u001b[38;5;66;03m# Ideal Fermentation\u001b[39;00m\n\u001b[0;32m----> 2\u001b[0m ax \u001b[38;5;241m=\u001b[39m \u001b[43mfig\u001b[49m\u001b[38;5;241m.\u001b[39madd_subplot(\u001b[38;5;241m111\u001b[39m) \n\u001b[1;32m      3\u001b[0m ideal_fermentation_zone \u001b[38;5;241m=\u001b[39m plt\u001b[38;5;241m.\u001b[39mpatches\u001b[38;5;241m.\u001b[39mRectangle((dataset[\u001b[38;5;124m'\u001b[39m\u001b[38;5;124mtime\u001b[39m\u001b[38;5;124m'\u001b[39m]\u001b[38;5;241m.\u001b[39mmin(), \u001b[38;5;241m21\u001b[39m), dataset[\u001b[38;5;124m'\u001b[39m\u001b[38;5;124mtime\u001b[39m\u001b[38;5;124m'\u001b[39m]\u001b[38;5;241m.\u001b[39mmax(), \u001b[38;5;241m4\u001b[39m, color \u001b[38;5;241m=\u001b[39m\u001b[38;5;124m'\u001b[39m\u001b[38;5;124mpink\u001b[39m\u001b[38;5;124m'\u001b[39m) \n",
      "\u001b[0;31mNameError\u001b[0m: name 'fig' is not defined"
     ]
    }
   ],
   "source": [
    "# Ideal Fermentation\n"
   ]
  },
  {
   "cell_type": "code",
   "execution_count": 181,
   "id": "de0de1e4-f642-4d09-80bf-52bf59019483",
   "metadata": {},
   "outputs": [
    {
     "ename": "AttributeError",
     "evalue": "module 'matplotlib.pyplot' has no attribute 'patches'",
     "output_type": "error",
     "traceback": [
      "\u001b[0;31m---------------------------------------------------------------------------\u001b[0m",
      "\u001b[0;31mAttributeError\u001b[0m                            Traceback (most recent call last)",
      "Cell \u001b[0;32mIn[181], line 3\u001b[0m\n\u001b[1;32m      1\u001b[0m temp_time_chart \u001b[38;5;241m=\u001b[39m plt\u001b[38;5;241m.\u001b[39mfigure(figsize\u001b[38;5;241m=\u001b[39m(\u001b[38;5;241m15\u001b[39m,\u001b[38;5;241m6\u001b[39m))\n\u001b[1;32m      2\u001b[0m ax \u001b[38;5;241m=\u001b[39m temp_time_chart\u001b[38;5;241m.\u001b[39madd_subplot(\u001b[38;5;241m111\u001b[39m) \n\u001b[0;32m----> 3\u001b[0m ideal_fermentation_zone \u001b[38;5;241m=\u001b[39m \u001b[43mplt\u001b[49m\u001b[38;5;241;43m.\u001b[39;49m\u001b[43mpatches\u001b[49m\u001b[38;5;241m.\u001b[39mRectangle((dataset[\u001b[38;5;124m'\u001b[39m\u001b[38;5;124mtime\u001b[39m\u001b[38;5;124m'\u001b[39m]\u001b[38;5;241m.\u001b[39mmin(), \u001b[38;5;241m21\u001b[39m), dataset[\u001b[38;5;124m'\u001b[39m\u001b[38;5;124mtime\u001b[39m\u001b[38;5;124m'\u001b[39m]\u001b[38;5;241m.\u001b[39mmax(), \u001b[38;5;241m4\u001b[39m, color \u001b[38;5;241m=\u001b[39m\u001b[38;5;124m'\u001b[39m\u001b[38;5;124mpink\u001b[39m\u001b[38;5;124m'\u001b[39m) \n\u001b[1;32m      5\u001b[0m plt\u001b[38;5;241m.\u001b[39mplot(dataset[\u001b[38;5;124m'\u001b[39m\u001b[38;5;124mtime\u001b[39m\u001b[38;5;124m'\u001b[39m],dataset[\u001b[38;5;124m'\u001b[39m\u001b[38;5;124mTemperature [C]\u001b[39m\u001b[38;5;124m'\u001b[39m],ls\u001b[38;5;241m=\u001b[39m\u001b[38;5;124m'\u001b[39m\u001b[38;5;124m-\u001b[39m\u001b[38;5;124m'\u001b[39m)\n\u001b[1;32m      6\u001b[0m plt\u001b[38;5;241m.\u001b[39mylim(\u001b[38;5;241m0\u001b[39m,\u001b[38;5;241m30\u001b[39m)\n",
      "\u001b[0;31mAttributeError\u001b[0m: module 'matplotlib.pyplot' has no attribute 'patches'"
     ]
    },
    {
     "data": {
      "image/png": "[encoded data removed]",
      "text/plain": [
       "<Figure size 1500x600 with 1 Axes>"
      ]
     },
     "metadata": {},
     "output_type": "display_data"
    }
   ],
   "source": [
    "temp_time_chart = plt.figure(figsize=(15,6))\n",
    "ax = temp_time_chart.add_subplot(111) \n",
    "ideal_fermentation_zone = plt.patches.Rectangle((dataset['time'].min(), 21), dataset['time'].max(), 4, color ='pink') \n",
    "\n",
    "plt.plot(dataset['time'],dataset['Temperature [C]'],ls='-')\n",
    "plt.ylim(0,30)\n",
    "plt.xlabel('Time of Reading')\n",
    "plt.ylabel('Temperature [Degrees C]')\n",
    "plt.title('Temperature Vs. Time Profile')\n",
    "\n",
    "plt.show()"
   ]
  },
  {
   "cell_type": "code",
   "execution_count": null,
   "id": "57eb188e-56ae-4292-a308-32154ffcf26d",
   "metadata": {},
   "outputs": [],
   "source": []
  }
 ],
 "metadata": {
  "kernelspec": {
   "display_name": "Python 3 (ipykernel)",
   "language": "python",
   "name": "python3"
  },
  "language_info": {
   "codemirror_mode": {
    "name": "ipython",
    "version": 3
   },
   "file_extension": ".py",
   "mimetype": "text/x-python",
   "name": "python",
   "nbconvert_exporter": "python",
   "pygments_lexer": "ipython3",
   "version": "3.10.12"
  }
 },
 "nbformat": 4,
 "nbformat_minor": 5
}
