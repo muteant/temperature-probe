{
 "cells": [
  {
   "cell_type": "code",
   "execution_count": 1,
   "id": "68b5b742-8534-4a50-bd28-e7752e25fa77",
   "metadata": {},
   "outputs": [],
   "source": [
    "# Import useful libraries\n",
    "\n",
    "import pandas as pd \n",
    "import numpy as np\n",
    "from datetime import datetime \n",
    "import matplotlib.pyplot as plt"
   ]
  },
  {
   "cell_type": "code",
   "execution_count": 8,
   "id": "7179db94-44c4-4573-9d9b-ef22ca5d8fc6",
   "metadata": {},
   "outputs": [],
   "source": [
    "# Import recorded data as a panadas DataFrame\n",
    "dataset = pd.read_csv(('analog-data.csv'), names = ['time', 'recorded_data'])\n",
    "\n",
    "# Seperate recorded data into new columns\n",
    "dataset[['Analog','Voltage [V]','Temperature [C]']] = dataset['recorded_data'].str.split(' ', expand=True)\n",
    "\n",
    "# Clean up the new columns \n",
    "dataset['Analog'] = dataset['Analog'].str.strip(\"[',]\").astype('float')\n",
    "dataset['Voltage [V]'] = dataset['Voltage [V]'].str.strip(\"[',]\").astype('float')\n",
    "dataset['Temperature [C]'] = dataset['Temperature [C]'].str.strip(\"[',]\").astype('float')\n",
    "\n",
    "# Convert time to datetime for delta Time Calculations\n",
    "dataset['time'] = pd.to_datetime(dataset['time'])\n",
    "\n",
    "# Create a column for Year, Month, Day, Clock \n",
    "dataset['Year'] = dataset['time'].dt.year\n",
    "dataset['Month'] = dataset['time'].dt.month_name()\n",
    "dataset['Weekday'] = dataset['time'].dt.day_name()\n",
    "dataset['Hour'] = dataset['time'].dt.hour\n",
    "dataset['Minute'] = dataset['time'].dt.minute\n",
    "dataset['Second'] = dataset['time'].dt.second"
   ]
  },
  {
   "cell_type": "code",
   "execution_count": 9,
   "id": "2e72fe8c-1e61-4ba8-8856-bd74efe2d927",
   "metadata": {},
   "outputs": [
    {
     "data": {
      "text/html": [
       "<div>\n",
       "<style scoped>\n",
       "    .dataframe tbody tr th:only-of-type {\n",
       "        vertical-align: middle;\n",
       "    }\n",
       "\n",
       "    .dataframe tbody tr th {\n",
       "        vertical-align: top;\n",
       "    }\n",
       "\n",
       "    .dataframe thead th {\n",
       "        text-align: right;\n",
       "    }\n",
       "</style>\n",
       "<table border=\"1\" class=\"dataframe\">\n",
       "  <thead>\n",
       "    <tr style=\"text-align: right;\">\n",
       "      <th></th>\n",
       "      <th>time</th>\n",
       "      <th>recorded_data</th>\n",
       "      <th>Analog</th>\n",
       "      <th>Voltage [V]</th>\n",
       "      <th>Temperature [C]</th>\n",
       "      <th>Year</th>\n",
       "      <th>Month</th>\n",
       "      <th>Weekday</th>\n",
       "      <th>Hour</th>\n",
       "      <th>Minute</th>\n",
       "      <th>Second</th>\n",
       "    </tr>\n",
       "  </thead>\n",
       "  <tbody>\n",
       "    <tr>\n",
       "      <th>0</th>\n",
       "      <td>2024-01-12 17:40:16.802290</td>\n",
       "      <td>['4.00', '0.65', '15.43']</td>\n",
       "      <td>4.0</td>\n",
       "      <td>0.65</td>\n",
       "      <td>15.43</td>\n",
       "      <td>2024</td>\n",
       "      <td>January</td>\n",
       "      <td>Friday</td>\n",
       "      <td>17</td>\n",
       "      <td>40</td>\n",
       "      <td>16</td>\n",
       "    </tr>\n",
       "    <tr>\n",
       "      <th>1</th>\n",
       "      <td>2024-01-12 17:40:17.804157</td>\n",
       "      <td>['134.00', '0.65', '15.43']</td>\n",
       "      <td>134.0</td>\n",
       "      <td>0.65</td>\n",
       "      <td>15.43</td>\n",
       "      <td>2024</td>\n",
       "      <td>January</td>\n",
       "      <td>Friday</td>\n",
       "      <td>17</td>\n",
       "      <td>40</td>\n",
       "      <td>17</td>\n",
       "    </tr>\n",
       "    <tr>\n",
       "      <th>2</th>\n",
       "      <td>2024-01-12 17:40:18.806437</td>\n",
       "      <td>['134.00', '0.65', '15.43']</td>\n",
       "      <td>134.0</td>\n",
       "      <td>0.65</td>\n",
       "      <td>15.43</td>\n",
       "      <td>2024</td>\n",
       "      <td>January</td>\n",
       "      <td>Friday</td>\n",
       "      <td>17</td>\n",
       "      <td>40</td>\n",
       "      <td>18</td>\n",
       "    </tr>\n",
       "    <tr>\n",
       "      <th>3</th>\n",
       "      <td>2024-01-12 17:40:19.808593</td>\n",
       "      <td>['134.00', '0.65', '15.43']</td>\n",
       "      <td>134.0</td>\n",
       "      <td>0.65</td>\n",
       "      <td>15.43</td>\n",
       "      <td>2024</td>\n",
       "      <td>January</td>\n",
       "      <td>Friday</td>\n",
       "      <td>17</td>\n",
       "      <td>40</td>\n",
       "      <td>19</td>\n",
       "    </tr>\n",
       "    <tr>\n",
       "      <th>4</th>\n",
       "      <td>2024-01-12 17:40:20.811007</td>\n",
       "      <td>['134.00', '0.65', '15.43']</td>\n",
       "      <td>134.0</td>\n",
       "      <td>0.65</td>\n",
       "      <td>15.43</td>\n",
       "      <td>2024</td>\n",
       "      <td>January</td>\n",
       "      <td>Friday</td>\n",
       "      <td>17</td>\n",
       "      <td>40</td>\n",
       "      <td>20</td>\n",
       "    </tr>\n",
       "  </tbody>\n",
       "</table>\n",
       "</div>"
      ],
      "text/plain": [
       "                        time                recorded_data  Analog  \\\n",
       "0 2024-01-12 17:40:16.802290    ['4.00', '0.65', '15.43']     4.0   \n",
       "1 2024-01-12 17:40:17.804157  ['134.00', '0.65', '15.43']   134.0   \n",
       "2 2024-01-12 17:40:18.806437  ['134.00', '0.65', '15.43']   134.0   \n",
       "3 2024-01-12 17:40:19.808593  ['134.00', '0.65', '15.43']   134.0   \n",
       "4 2024-01-12 17:40:20.811007  ['134.00', '0.65', '15.43']   134.0   \n",
       "\n",
       "   Voltage [V]  Temperature [C]  Year    Month Weekday  Hour  Minute  Second  \n",
       "0         0.65            15.43  2024  January  Friday    17      40      16  \n",
       "1         0.65            15.43  2024  January  Friday    17      40      17  \n",
       "2         0.65            15.43  2024  January  Friday    17      40      18  \n",
       "3         0.65            15.43  2024  January  Friday    17      40      19  \n",
       "4         0.65            15.43  2024  January  Friday    17      40      20  "
      ]
     },
     "execution_count": 9,
     "metadata": {},
     "output_type": "execute_result"
    }
   ],
   "source": [
    "dataset.head()"
   ]
  },
  {
   "cell_type": "code",
   "execution_count": 10,
   "id": "eaa65960-01aa-4a6d-a3e9-0acbf8ff0292",
   "metadata": {},
   "outputs": [
    {
     "name": "stdout",
     "output_type": "stream",
     "text": [
      "<class 'pandas.core.frame.DataFrame'>\n",
      "RangeIndex: 30 entries, 0 to 29\n",
      "Data columns (total 11 columns):\n",
      " #   Column           Non-Null Count  Dtype         \n",
      "---  ------           --------------  -----         \n",
      " 0   time             30 non-null     datetime64[ns]\n",
      " 1   recorded_data    30 non-null     object        \n",
      " 2   Analog           30 non-null     float64       \n",
      " 3   Voltage [V]      30 non-null     float64       \n",
      " 4   Temperature [C]  30 non-null     float64       \n",
      " 5   Year             30 non-null     int64         \n",
      " 6   Month            30 non-null     object        \n",
      " 7   Weekday          30 non-null     object        \n",
      " 8   Hour             30 non-null     int64         \n",
      " 9   Minute           30 non-null     int64         \n",
      " 10  Second           30 non-null     int64         \n",
      "dtypes: datetime64[ns](1), float64(3), int64(4), object(3)\n",
      "memory usage: 2.7+ KB\n"
     ]
    }
   ],
   "source": [
    "dataset.info()"
   ]
  },
  {
   "cell_type": "code",
   "execution_count": 11,
   "id": "657521ab-3cce-4fff-9218-6dc07abada49",
   "metadata": {},
   "outputs": [
    {
     "data": {
      "text/plain": [
       "Timedelta('0 days 00:00:10.026271')"
      ]
     },
     "execution_count": 11,
     "metadata": {},
     "output_type": "execute_result"
    }
   ],
   "source": [
    "# Test change in time\n",
    "dataset['time'].loc[10]- dataset['time'].loc[0]"
   ]
  },
  {
   "cell_type": "code",
   "execution_count": 12,
   "id": "f61f4e1a-d2de-43ef-a536-eb817c208e33",
   "metadata": {},
   "outputs": [],
   "source": [
    "# Ideal Fermentation\n",
    "fermentation_xvalues = dataset['time']\n",
    "fermentation_bottom_yvalues = np.full((len(dataset['time']),1),21)\n",
    "fermentation_top_yvalues = np.full((len(dataset['time']),1),25)\n"
   ]
  },
  {
   "cell_type": "code",
   "execution_count": 14,
   "id": "de0de1e4-f642-4d09-80bf-52bf59019483",
   "metadata": {},
   "outputs": [
    {
     "data": {
      "image/png": "[encoded data removed]",
      "text/plain": [
       "<Figure size 1500x600 with 1 Axes>"
      ]
     },
     "metadata": {},
     "output_type": "display_data"
    }
   ],
   "source": [
    "temp_time_chart = plt.figure(figsize=(15,6))\n",
    "\n",
    "plt.plot(dataset['time'],dataset['Temperature [C]'],ls='-', label='Recorded Data')\n",
    "plt.plot(fermentation_xvalues,fermentation_bottom_yvalues, label = 'Ideal Fermentation Bottom Range', color='green')\n",
    "plt.plot(fermentation_xvalues,fermentation_top_yvalues, label = 'Ideal Fermentation Top Range',color='red')\n",
    "\n",
    "plt.ylim(0,30)\n",
    "plt.xlabel('Time of Reading')\n",
    "plt.ylabel('Temperature [Degrees C]')\n",
    "plt.title('Temperature Vs. Time Profile')\n",
    "plt.legend(loc='lower right')\n",
    "plt.show()"
   ]
  },
  {
   "cell_type": "code",
   "execution_count": null,
   "id": "57eb188e-56ae-4292-a308-32154ffcf26d",
   "metadata": {},
   "outputs": [],
   "source": []
  }
 ],
 "metadata": {
  "kernelspec": {
   "display_name": "Python 3 (ipykernel)",
   "language": "python",
   "name": "python3"
  },
  "language_info": {
   "codemirror_mode": {
    "name": "ipython",
    "version": 3
   },
   "file_extension": ".py",
   "mimetype": "text/x-python",
   "name": "python",
   "nbconvert_exporter": "python",
   "pygments_lexer": "ipython3",
   "version": "3.10.12"
  }
 },
 "nbformat": 4,
 "nbformat_minor": 5
}
